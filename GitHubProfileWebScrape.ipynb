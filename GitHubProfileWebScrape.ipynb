{
  "nbformat": 4,
  "nbformat_minor": 0,
  "metadata": {
    "colab": {
      "provenance": [],
      "authorship_tag": "ABX9TyNjkVV/e25UL7izsdYg4v1z",
      "include_colab_link": true
    },
    "kernelspec": {
      "name": "python3",
      "display_name": "Python 3"
    },
    "language_info": {
      "name": "python"
    }
  },
  "cells": [
    {
      "cell_type": "markdown",
      "metadata": {
        "id": "view-in-github",
        "colab_type": "text"
      },
      "source": [
        "<a href=\"https://colab.research.google.com/github/sikandardatascientist123/Python-Project/blob/main/GitHubProfileWebScrape.ipynb\" target=\"_parent\"><img src=\"https://colab.research.google.com/assets/colab-badge.svg\" alt=\"Open In Colab\"/></a>"
      ]
    },
    {
      "cell_type": "code",
      "execution_count": 3,
      "metadata": {
        "colab": {
          "base_uri": "https://localhost:8080/"
        },
        "id": "hkcueqfEboqG",
        "outputId": "943be875-17d8-429a-df2c-d45e33412970"
      },
      "outputs": [
        {
          "output_type": "stream",
          "name": "stdout",
          "text": [
            "Profile picture URL: https://avatars.githubusercontent.com/u/196448743?s=64&v=4\n"
          ]
        }
      ],
      "source": [
        "import requests\n",
        "from bs4 import BeautifulSoup as bs\n",
        "\n",
        "# GitHub profile URL\n",
        "github_profile = \"https://github.com/sikandardatascientist123\"\n",
        "req = requests.get(github_profile)\n",
        "\n",
        "# Parse the HTML content\n",
        "scraper = bs(req.content, \"html.parser\")\n",
        "\n",
        "# Try to find the image with the class \"avatar-user\"\n",
        "profile_picture_element = scraper.find(\"img\", {\"class\": \"avatar-user\"})\n",
        "if profile_picture_element:\n",
        "    profile_picture = profile_picture_element['src']\n",
        "    print(\"Profile picture URL:\", profile_picture)\n",
        "else:\n",
        "    print(\"Profile picture not found. The structure of the page may have changed.\")"
      ]
    }
  ]
}