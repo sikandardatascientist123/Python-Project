{
  "nbformat": 4,
  "nbformat_minor": 0,
  "metadata": {
    "colab": {
      "provenance": [],
      "authorship_tag": "ABX9TyNHhrYrgEuuzALC7GQi3QCs",
      "include_colab_link": true
    },
    "kernelspec": {
      "name": "python3",
      "display_name": "Python 3"
    },
    "language_info": {
      "name": "python"
    }
  },
  "cells": [
    {
      "cell_type": "markdown",
      "metadata": {
        "id": "view-in-github",
        "colab_type": "text"
      },
      "source": [
        "<a href=\"https://colab.research.google.com/github/sikandardatascientist123/Python-Project/blob/main/ScrapeTable.ipynb\" target=\"_parent\"><img src=\"https://colab.research.google.com/assets/colab-badge.svg\" alt=\"Open In Colab\"/></a>"
      ]
    },
    {
      "cell_type": "code",
      "execution_count": 1,
      "metadata": {
        "colab": {
          "base_uri": "https://localhost:8080/"
        },
        "id": "xTwcfJZ4jo9z",
        "outputId": "4a7e13d1-4eb2-4627-8d94-f8d59ffc24d2"
      },
      "outputs": [
        {
          "output_type": "stream",
          "name": "stdout",
          "text": [
            "    Websites Popularity (unique visitors per month)[1]  \\\n",
            "0  Google[2]                                2800000000   \n",
            "1   Facebook                                1120000000   \n",
            "2    YouTube                                1100000000   \n",
            "3      Yahoo                                 750000000   \n",
            "4       Etsy       516,000,000 (Total, not unique)[13]   \n",
            "\n",
            "        Front-end (Client-side)  \\\n",
            "0        JavaScript, TypeScript   \n",
            "1  JavaScript, TypeScript, Flow   \n",
            "2        JavaScript, TypeScript   \n",
            "3                    JavaScript   \n",
            "4                    JavaScript   \n",
            "\n",
            "                              Back-end (Server-side)  \\\n",
            "0                  C, C++, Go,[3] Java, Python, Node   \n",
            "1  Hack/HHVM, Python, C++, Java, Erlang, D,[6] Ha...   \n",
            "2                   Python, C, C++, Java,[10] Go[11]   \n",
            "3                                                PHP   \n",
            "4                                            PHP[14]   \n",
            "\n",
            "                                     Database  \\\n",
            "0                     Bigtable,[4] MariaDB[5]   \n",
            "1      MariaDB, MySQL,[8] HBase, Cassandra[9]   \n",
            "2                Vitess, BigTable, MariaDB[5]   \n",
            "3  PostgreSQL, HBase, Cassandra, MongoDB,[12]   \n",
            "4                            MySQL, Redis[15]   \n",
            "\n",
            "                                       Notes  \n",
            "0  The most used search engine in the world.  \n",
            "1   The most visited social networking site.  \n",
            "2       The most popular video sharing site.  \n",
            "3                                        NaN  \n",
            "4                        E-commerce website.  \n"
          ]
        }
      ],
      "source": [
        "import urllib.request\n",
        "\n",
        "import pandas as pd\n",
        "\n",
        "url = 'https://en.wikipedia.org/wiki/Programming_languages_used_in_most_popular_websites'\n",
        "\n",
        "with urllib.request.urlopen(url) as i:\n",
        "    html = i.read()\n",
        "data = pd.read_html(html)[0]\n",
        "\n",
        "data.to_csv(\"programming.csv\")\n",
        "\n",
        "print(data.head())"
      ]
    }
  ]
}