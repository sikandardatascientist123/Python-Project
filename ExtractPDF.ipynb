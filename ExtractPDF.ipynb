{
  "nbformat": 4,
  "nbformat_minor": 0,
  "metadata": {
    "colab": {
      "provenance": [],
      "mount_file_id": "1gYEl3rDbdTizcDgaExw5GGliprn7L7_v",
      "authorship_tag": "ABX9TyNFebzu/c42j2xxyNZkIdFT",
      "include_colab_link": true
    },
    "kernelspec": {
      "name": "python3",
      "display_name": "Python 3"
    },
    "language_info": {
      "name": "python"
    }
  },
  "cells": [
    {
      "cell_type": "markdown",
      "metadata": {
        "id": "view-in-github",
        "colab_type": "text"
      },
      "source": [
        "<a href=\"https://colab.research.google.com/github/sikandardatascientist123/Python-Project/blob/main/ExtractPDF.ipynb\" target=\"_parent\"><img src=\"https://colab.research.google.com/assets/colab-badge.svg\" alt=\"Open In Colab\"/></a>"
      ]
    },
    {
      "cell_type": "code",
      "execution_count": 2,
      "metadata": {
        "colab": {
          "base_uri": "https://localhost:8080/"
        },
        "id": "EVs5R7TmYptA",
        "outputId": "1d725906-e6be-4f3c-cc69-acd4bd2f6d41"
      },
      "outputs": [
        {
          "output_type": "stream",
          "name": "stdout",
          "text": [
            "Collecting PyPDF2\n",
            "  Downloading pypdf2-3.0.1-py3-none-any.whl.metadata (6.8 kB)\n",
            "Downloading pypdf2-3.0.1-py3-none-any.whl (232 kB)\n",
            "\u001b[?25l   \u001b[90m━━━━━━━━━━━━━━━━━━━━━━━━━━━━━━━━━━━━━━━━\u001b[0m \u001b[32m0.0/232.6 kB\u001b[0m \u001b[31m?\u001b[0m eta \u001b[36m-:--:--\u001b[0m\r\u001b[2K   \u001b[90m━━━━━━━━━━━━━━━━━━━━━━━━━━━━━━━━━━━━━━━━\u001b[0m \u001b[32m232.6/232.6 kB\u001b[0m \u001b[31m6.9 MB/s\u001b[0m eta \u001b[36m0:00:00\u001b[0m\n",
            "\u001b[?25hInstalling collected packages: PyPDF2\n",
            "Successfully installed PyPDF2-3.0.1\n"
          ]
        }
      ],
      "source": [
        "pip install PyPDF2"
      ]
    },
    {
      "cell_type": "code",
      "source": [
        "import PyPDF2\n",
        "\n",
        "pdf = open(\"/content/drive/MyDrive/Python Cheat Sheet - The Basics Coursera.pdf\", \"rb\")\n",
        "\n",
        "reader = PyPDF2.PdfReader(pdf)\n",
        "\n",
        "page = reader.pages[1]\n",
        "print(page.extract_text())"
      ],
      "metadata": {
        "colab": {
          "base_uri": "https://localhost:8080/"
        },
        "id": "lbCXpJHIY9IC",
        "outputId": "4bf20710-b80a-4a18-e8b9-c98fd42142f5"
      },
      "execution_count": 5,
      "outputs": [
        {
          "output_type": "stream",
          "name": "stdout",
          "text": [
            "L o o p sF o r  L o o p sf o r  x  i n  r a n g e ( x ) :\n",
            "    #  E x e c u t e s  l o o p  x  n u m b e r  o f  t i m e sf o r  x  i n  i t e r a b l e :\n",
            "    #  E x e c u t e s  l o o p  f o r  e a c h  o b j e c t  i n  a n  i t e r a b l e  l i k e  a  s t r i n g ,  t u p l e ,              \n",
            "l i s t ,  o r  s e tW h i l e  L o o p sw h i l e  s t a t e m e n t :\n",
            "    #  E x e c u t e s  t h e  l o o p  w h i l e  s t a t e m e n t  i s  t r u eC o n d i t i o n a l  S t a t e m e n t si f  s t a t e m e n t _ 1 :\n",
            "  #  E x e c u t e  o f  s t a t e m e n t _ 1  i s  t r u e\n",
            "e l i f  s t a t e m e n t _ 2 :\n",
            "  #  E x e c u t e  i f  s t a t e m e n t _ 1  i s  f a l s e  a n d  s t a t e m e n t _ 2  i s  t r u e\n",
            "e l s e :\n",
            "  #  E x e c u t e  i f  a l l  p r e v i o u s  s t a t e m e n t s  a r e  f a l s eT r y / E x c e p tt r y :\n",
            "   #  C o d e  t o  t r y  t o  e x e c u t e\n",
            "e x c e p t  a :\n",
            "   #  C o d e  t o  e x e c u t e  i f  t h e r e  i s  a n  e r r o r  o f  t y p e  a\n",
            "e x c e p t  b :\n",
            "   #  C o d e  t o  e x e c u t e  i f  t h e r e  i s  a n  e r r o r  o f  t y p e  b \r\n",
            "e x c e p t :\n",
            "   #  C o d e  t o  e x e c u t e  i f  t h e r e  i s  a n y  e x c e p t i o n  t h a t  h a s  n o t  b e e n  h a n d l e d  \n",
            "e l s e :\n",
            "   #  C o d e  t o  e x e c u t e  i f  t h e r e  i s  n o  e x c e p t i o nE r r o r  T y p e sI n d e x E r r o r  -  W h e n  a n  i n d e x  i s  o u t  o f  r a n g \n",
            "N a m e E r r o r  -  W h e n  a  v a r i a b l e  n a m e  i s  n o t  f o u n \n",
            "S y n t a x E r r o r  -  W h e n  t h e r e  i s  a n  e r r o r  w i t h  h o w  t h e  c o d e  i s  w r i t t e n \n",
            "Z e r o D i v i s i o n E r r o r  -  W h e n  y o u r  c o d e  t r i e s  t o  d i v i d e  b y  z e r oR a n g eP r o d u c e  a n  i t e r a b l e  s e q u e n c e  f r o m  0  t o  s t o p -1r a n g e ( s t o p )P r o d u c e  a n  i n t e r a b l e  s e q u e n c e  f r o m  s t a r t  t o  s t o p -1  i n c r e m e n t i n g  b y  s t e p  r a n g e ( s t a r t ,  s t o p ,  s t e p )W e b s c r a p i n g#  I m p o r t  B e a u t i f u l S o u p\n",
            "f r o m  b s 4  i m p o r t  B e a u t i f u l S o u p#  P a r s e  H T M L  s t o r e d  a s  a  s t r i n g\n",
            "s o u p  =  B e a u t i f u l S o u p ( h t m l ,  ' h t m l 5 l i b ' )#  R e t u r n s  f o r m a t t e d  h t m l\n",
            "s o u p . p r e t t i f y ( )#  F i n d  t h e  f i r s t  i n s t a n c e  o f  a n  H T M L  t a g\n",
            "s o u p . f i n d ( t a g )#  F i n d  a l l  i n s t a n c e s  o f  a n  H T M L  t a g\n",
            "s o u p . f i n d _ a l l ( t a g )R e q u e s t s#  I m p o r t  t h e  r e q u e s t s  l i b r a r y\n",
            "i m p o r t  r e q u e s t s#  S e n d  a  g e t  r e q u e s t s  t o  t h e  u r l  w i t h  o p t i o n a l  p a r a m e t e r s\n",
            "r e s p o n s e  =  r e q u e s t s . g e t ( u r l ,  p a r a m e t e r s )#  G e t  t h e  u r l  o f  t h e  r e s p o n s e\n",
            "r e s p o n s e . u r l\n",
            "#  G e t  t h e  s t a t u s  c o d e  o f  t h e  r e s p o n s e\n",
            "r e s p o n s e . s t a t u s _ c o d e\n",
            "#  G e t  t h e  h e a d e r s  o f  t h e  r e q u e s t\n",
            "r e s p o n s e . r e q u e s t . h e a d e r s\n",
            "#  G e t  t h e  b o d y  o f  t h e  r e q u e s t s\n",
            "r e s p o n s e . r e q u e s t . b o d y\n",
            "#  G e t  t h e  h e a d e r s  o f  t h e  r e s p o n s e\n",
            "r e s p o n s e . h e a d e r s\n",
            "#  G e t  t h e  c o n t e n t  o f  t h e  r e s p o n s e  i n  t e x t\n",
            "r e s p o n s e . t e x t\n",
            "#  G e t  t h e  c o n t e n t  o f  t h e  r e s p o n s e  i n  j s o n\n",
            "r e s p o n s e . j s o n ( )#  S e n d  a  p o s t  r e q u e s t s  t o  t h e  u r l  w i t h  o p t i o n a l  p a r a m e t e r s\n",
            "r e q u e s t s . p o s t ( u r l ,  p a r a m e t e r s )F u n c t i o n s#  C r e a t e  a  f u n c t i o n\n",
            "d e f  f u n c t i o n _ n a m e ( o p t i o n a l _ p a r a m e t e r _ 1 ,  o p t i o n a l _ p r a m e t e r _ 2 ) :\n",
            "     #  c o d e  t o  e x e c u t e\n",
            "     r e t u r n  o p t i o n a l _ o u t p u t#  C a l l i n g  a  f u n c t i o n\n",
            "o u t p u t  =  f u n c t i o n _ n a m e ( p a r a m e t e r _ 1 ,  p a r a m e t e r _ 2 )W o r k i n g  w i t h  F i l e sR e a d i n g  a  F i l e#  O p e n s  a  f i l e  i n  r e a d  m o d e\n",
            "f i l e  =  o p e n ( f i l e _ n a m e ,  \" r \" )\n",
            "#  R e t u r n s  t h e  f i l e  n a m e\n",
            "f i l e . n a m e\n",
            "#  R e t u r n s  t h e  m o d e  t h e  f i l e  w a s  o p e n e d  i n\n",
            "f i l e . m o d e#  R e a d s  t h e  c o n t e n t s  o f  a  f i l e\n",
            "f i l e . r e a d ( )#  R e a d s  a  c e r t a i n  n u m b e r  o f  c h a r a c t e r s  o f  a  f i l e\n",
            "f i l e . r e a d ( c h a r a c t e r s )#  R e a d  a  s i n g l e  l i n e  o f  a  f i l e\n",
            "f i l e . r e a d l i n e ( )#  R e a d  a l l  t h e  l i n e s  o f  a  f i l e  a n d  s t o r e s  i t  i n  a  l i s t\n",
            "f i l e . r e a d l i n e s ( )#  C l o s e s  a  f i l e\n",
            "f i l e . c l o s e ( )W r i t i n g  t o  a  F i l e#  O p e n s  a  f i l e  i n  w r i t e  m o d e\n",
            "f i l e  =  o p e n ( f i l e _ n a m e ,  \" w \" )#  W r i t e s  c o n t e n t  t o  a  f i l e\n",
            "f i l e . w r i t e ( c o n t e n t )#  A d d s  c o n t e n t  t o  t h e  e n d  o f  a  f i l e\n",
            "f i l e . a p p e n d ( c o n t e n t )O b j e c t s  a n d  C l a s s e s#  C r e a t i n g  a  c l a s s\n",
            "c l a s s  c l a s s _ n a m e :\n",
            "     d e f  _ _ i n i t _ _ ( s e l f .  o p t i o n a l _ p a r a m e t e r _ 1 ,  o p t i o n a l _ p a r a m e t e r _ 2 ) :\n",
            "          s e l f . a t t r i b u t e _ 1  =  o p t i o n a l _ p a r a m e t e r _ 1\n",
            "          s e l f . a t t r i b u t e _ 2  =  o p t i o n a l _ p a r a m e t e r _ 2\n",
            "\n",
            "     d e f  m e t h o d _ n a m e ( s e l f ,  o p t i o n a l _ p a r a m e t e r _ 1 ) :\n",
            "          #  C o d e  t o  e x e c u t e\n",
            "          r e t u r n  o p t i o n a l _ o u t p u t#  C r e a t e  a n  i n s t a n c e  o f  a  c l a s s\n",
            "o b j e c t  =  c l a s s _ n a m e ( p a r a m e t e r _ 1 ,  p a r a m e t e r _ 2 )#  C a l l i n g  a n  o b j e c t  m e t h o d\n",
            "o b j e c t . m e t h o d _ n a m e ( p a r a m e t e r _ 3 )\n",
            "P y t h o n  C h e a t  S h e e t :  T h e  B a s i c sL e a r n   o n  C o u r s e r aP y t h o n  f o r  D a t a  S c i e n c e ,  A I  &  D e v e l o p m e n t\n",
            "P a g e  2©  C o p y r i g h t  I B M  C o r p o r a t i o n  2 0 2 1 .  A l l  r i g h t s  r e s e r v e d .\n"
          ]
        }
      ]
    }
  ]
}