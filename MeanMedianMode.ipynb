{
  "nbformat": 4,
  "nbformat_minor": 0,
  "metadata": {
    "colab": {
      "provenance": [],
      "authorship_tag": "ABX9TyPq+qQcYrHXAooUvI++bx3V",
      "include_colab_link": true
    },
    "kernelspec": {
      "name": "python3",
      "display_name": "Python 3"
    },
    "language_info": {
      "name": "python"
    }
  },
  "cells": [
    {
      "cell_type": "markdown",
      "metadata": {
        "id": "view-in-github",
        "colab_type": "text"
      },
      "source": [
        "<a href=\"https://colab.research.google.com/github/sikandardatascientist123/Python-Project/blob/main/MeanMedianMode.ipynb\" target=\"_parent\"><img src=\"https://colab.research.google.com/assets/colab-badge.svg\" alt=\"Open In Colab\"/></a>"
      ]
    },
    {
      "cell_type": "code",
      "execution_count": 1,
      "metadata": {
        "colab": {
          "base_uri": "https://localhost:8080/"
        },
        "id": "Og_DeTAefYDB",
        "outputId": "4710a0b8-275f-4a14-f403-c237d83e2599"
      },
      "outputs": [
        {
          "output_type": "stream",
          "name": "stdout",
          "text": [
            "20.2\n",
            "20.0\n",
            "20\n"
          ]
        }
      ],
      "source": [
        "#Mean\n",
        "list1 = [12,16,20,20,12,30,25,23,24,20]\n",
        "mean = sum(list1)/len(list1)\n",
        "print(mean)\n",
        "#Median\n",
        "list1 = [12,16,20,20,12,30,25,23,24,20]\n",
        "list1.sort()\n",
        "\n",
        "if len(list1)%2 == 0:\n",
        "    m1 = list1[len(list1)//2]\n",
        "    m2 = list1[len(list1)//2 -1]\n",
        "    median = (m1 + m2)/2\n",
        "else:\n",
        "    median = list1[len(list1)//2]\n",
        "print(median)\n",
        "\n",
        "# Mode is the most frequently accuring value among all the values. Below is how we can calculate the mode value of a dataset using Python\n",
        "\n",
        "# Mode\n",
        "\n",
        "list1 = [12,16,20,20,12,30,25,23,24,20]\n",
        "\n",
        "frequency = {}\n",
        "\n",
        "for i in list1:\n",
        "    frequency.setdefault(i,0)\n",
        "    frequency[i]+=1\n",
        "frequent = max(frequency.values())\n",
        "for i,j in frequency.items():\n",
        "    if j == frequent:\n",
        "        mode = i\n",
        "print(mode)"
      ]
    }
  ]
}