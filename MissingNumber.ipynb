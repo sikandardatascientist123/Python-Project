{
  "nbformat": 4,
  "nbformat_minor": 0,
  "metadata": {
    "colab": {
      "provenance": [],
      "authorship_tag": "ABX9TyPT7QILTZEXZecT446meyBM",
      "include_colab_link": true
    },
    "kernelspec": {
      "name": "python3",
      "display_name": "Python 3"
    },
    "language_info": {
      "name": "python"
    }
  },
  "cells": [
    {
      "cell_type": "markdown",
      "metadata": {
        "id": "view-in-github",
        "colab_type": "text"
      },
      "source": [
        "<a href=\"https://colab.research.google.com/github/sikandardatascientist123/Python-Project/blob/main/MissingNumber.ipynb\" target=\"_parent\"><img src=\"https://colab.research.google.com/assets/colab-badge.svg\" alt=\"Open In Colab\"/></a>"
      ]
    },
    {
      "cell_type": "code",
      "execution_count": 1,
      "metadata": {
        "colab": {
          "base_uri": "https://localhost:8080/"
        },
        "id": "iQkrWsydf-Sj",
        "outputId": "705389b3-d75f-4417-b682-e8edcd45acef"
      },
      "outputs": [
        {
          "output_type": "stream",
          "name": "stdout",
          "text": [
            "[4, 12, 15]\n"
          ]
        }
      ],
      "source": [
        "def findMissingNumber(n):\n",
        "    numbers =  set(n)\n",
        "    length = len(n)\n",
        "    output = []\n",
        "\n",
        "    for i in range(1,n[-1]):\n",
        "        if i not in numbers:\n",
        "            output.append(i)\n",
        "    return output\n",
        "listOfNumbers = [1,2,3,5,6,7,8,9,10,11,13,14,16]\n",
        "print(findMissingNumber(listOfNumbers))"
      ]
    }
  ]
}