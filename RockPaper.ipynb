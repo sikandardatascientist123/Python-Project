{
  "nbformat": 4,
  "nbformat_minor": 0,
  "metadata": {
    "colab": {
      "provenance": [],
      "authorship_tag": "ABX9TyNee75ldPIu9YC6vEIVCiVz",
      "include_colab_link": true
    },
    "kernelspec": {
      "name": "python3",
      "display_name": "Python 3"
    },
    "language_info": {
      "name": "python"
    }
  },
  "cells": [
    {
      "cell_type": "markdown",
      "metadata": {
        "id": "view-in-github",
        "colab_type": "text"
      },
      "source": [
        "<a href=\"https://colab.research.google.com/github/sikandardatascientist123/Python-Project/blob/main/RockPaper.ipynb\" target=\"_parent\"><img src=\"https://colab.research.google.com/assets/colab-badge.svg\" alt=\"Open In Colab\"/></a>"
      ]
    },
    {
      "cell_type": "code",
      "execution_count": 1,
      "metadata": {
        "colab": {
          "base_uri": "https://localhost:8080/"
        },
        "id": "y-yrSHAxjIon",
        "outputId": "aac5a4ba-da4b-4277-8d32-1be43863e354"
      },
      "outputs": [
        {
          "output_type": "stream",
          "name": "stdout",
          "text": [
            "Select Rock, Paper, or Scissor: Paper\n",
            "Player 2 Selected:  rock\n",
            "Player 1 Won\n"
          ]
        }
      ],
      "source": [
        "# Rock Paper Scissors is a hand game usually played between two people. In this game, scissors can beat paper, paper can beat rock, and rock beat\n",
        "#scissors\n",
        "\n",
        "# To create and play rock paper scissors, I will be using the if and elif statements in python. I will prepare this game to be played between two\n",
        "# players. Player -1 will be user, and Player-2 Will be the computer. Player one manually select the rock paper or scissor, while player 2 will\n",
        "# choose randomly. So I will also use the random module in python to create this game.\n",
        "\n",
        "import random\n",
        "\n",
        "player1 = input(\"Select Rock, Paper, or Scissor: \").lower()\n",
        "player2 = random.choice([\"Rock\",\"Paper\",\"Scissor\"]).lower()\n",
        "\n",
        "print(\"Player 2 Selected: \", player2)\n",
        "\n",
        "if player1 == \"rock\" and player2 == \"paper\":\n",
        "    print(\"Player 2 Won!\")\n",
        "elif player1 == \"paper\" and player2 ==\"scissor\":\n",
        "    print(\"Player 2 Won!\")\n",
        "elif player1 == \"scissor\" and player2 == \"rock\":\n",
        "    print(\"Player 2 Won!\")\n",
        "elif player1 == player2:\n",
        "    print(\"Tie\")\n",
        "else:\n",
        "    print(\"Player 1 Won\")"
      ]
    }
  ]
}