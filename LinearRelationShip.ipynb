{
  "nbformat": 4,
  "nbformat_minor": 0,
  "metadata": {
    "colab": {
      "provenance": [],
      "authorship_tag": "ABX9TyMKpGy1pXJYdwaAxBzxogJv",
      "include_colab_link": true
    },
    "kernelspec": {
      "name": "python3",
      "display_name": "Python 3"
    },
    "language_info": {
      "name": "python"
    }
  },
  "cells": [
    {
      "cell_type": "markdown",
      "metadata": {
        "id": "view-in-github",
        "colab_type": "text"
      },
      "source": [
        "<a href=\"https://colab.research.google.com/github/sikandardatascientist123/Python-Project/blob/main/LinearRelationShip.ipynb\" target=\"_parent\"><img src=\"https://colab.research.google.com/assets/colab-badge.svg\" alt=\"Open In Colab\"/></a>"
      ]
    },
    {
      "cell_type": "code",
      "execution_count": 1,
      "metadata": {
        "colab": {
          "base_uri": "https://localhost:8080/",
          "height": 1000
        },
        "id": "lrviW6k_egXY",
        "outputId": "52d1e9fd-b33b-495c-fa3e-2aa5f5e64b7d"
      },
      "outputs": [
        {
          "output_type": "stream",
          "name": "stdout",
          "text": [
            "   Impressions  From Home  From Hashtags  From Explore  From Other  Saves  \\\n",
            "0       3920.0     2586.0         1028.0         619.0        56.0   98.0   \n",
            "1       5394.0     2727.0         1838.0        1174.0        78.0  194.0   \n",
            "2       4021.0     2085.0         1188.0           0.0       533.0   41.0   \n",
            "3       4528.0     2700.0          621.0         932.0        73.0  172.0   \n",
            "4       2518.0     1704.0          255.0         279.0        37.0   96.0   \n",
            "\n",
            "   Comments  Shares  Likes  Profile Visits  Follows  \\\n",
            "0       9.0     5.0  162.0            35.0      2.0   \n",
            "1       7.0    14.0  224.0            48.0     10.0   \n",
            "2      11.0     1.0  131.0            62.0     12.0   \n",
            "3      10.0     7.0  213.0            23.0      8.0   \n",
            "4       5.0     4.0  123.0             8.0      0.0   \n",
            "\n",
            "                                             Caption  \\\n",
            "0  Here are some of the most important data visua...   \n",
            "1  Here are some of the best data science project...   \n",
            "2  Learn how to train a machine learning model an...   \n",
            "3  Heres how you can write a Python program to d...   \n",
            "4  Plotting annotations while visualizing your da...   \n",
            "\n",
            "                                            Hashtags  \n",
            "0  #finance #money #business #investing #investme...  \n",
            "1  #healthcare #health #covid #data #datascience ...  \n",
            "2  #data #datascience #dataanalysis #dataanalytic...  \n",
            "3  #python #pythonprogramming #pythonprojects #py...  \n",
            "4  #datavisualization #datascience #data #dataana...  \n"
          ]
        },
        {
          "output_type": "display_data",
          "data": {
            "text/html": [
              "<html>\n",
              "<head><meta charset=\"utf-8\" /></head>\n",
              "<body>\n",
              "    <div>            <script src=\"https://cdnjs.cloudflare.com/ajax/libs/mathjax/2.7.5/MathJax.js?config=TeX-AMS-MML_SVG\"></script><script type=\"text/javascript\">if (window.MathJax && window.MathJax.Hub && window.MathJax.Hub.Config) {window.MathJax.Hub.Config({SVG: {font: \"STIX-Web\"}});}</script>                <script type=\"text/javascript\">window.PlotlyConfig = {MathJaxConfig: 'local'};</script>\n",
              "        <script charset=\"utf-8\" src=\"https://cdn.plot.ly/plotly-2.35.2.min.js\"></script>                <div id=\"8052ad16-16c4-49f7-a3ea-f137f51b0fba\" class=\"plotly-graph-div\" style=\"height:525px; width:100%;\"></div>            <script type=\"text/javascript\">                                    window.PLOTLYENV=window.PLOTLYENV || {};                                    if (document.getElementById(\"8052ad16-16c4-49f7-a3ea-f137f51b0fba\")) {                    Plotly.newPlot(                        \"8052ad16-16c4-49f7-a3ea-f137f51b0fba\",                        [{\"hovertemplate\":\"Impressions=%{x}\\u003cbr\\u003eLikes=%{marker.size}\\u003cextra\\u003e\\u003c\\u002fextra\\u003e\",\"legendgroup\":\"\",\"marker\":{\"color\":\"#636efa\",\"size\":[162.0,224.0,131.0,213.0,123.0,144.0,76.0,124.0,159.0,191.0,81.0,151.0,162.0,142.0,294.0,159.0,205.0,121.0,151.0,72.0,76.0,91.0,195.0,129.0,160.0,175.0,147.0,114.0,151.0,92.0,214.0,150.0,122.0,152.0,196.0,86.0,85.0,156.0,72.0,82.0,416.0,180.0,150.0,127.0,167.0,225.0,137.0,114.0,263.0,328.0,126.0,236.0,99.0,212.0,297.0,142.0,186.0,112.0,149.0,132.0,115.0,248.0,178.0,107.0,269.0,96.0,134.0,301.0,187.0,94.0,114.0,96.0,138.0,122.0,257.0,95.0,244.0,190.0,118.0,178.0,170.0,250.0,159.0,205.0,121.0,151.0,72.0,137.0,114.0,263.0,328.0,126.0,129.0,160.0,175.0,147.0,114.0,151.0,92.0],\"sizemode\":\"area\",\"sizeref\":1.04,\"symbol\":\"circle\"},\"mode\":\"markers\",\"name\":\"\",\"orientation\":\"v\",\"showlegend\":false,\"x\":[3920.0,5394.0,4021.0,4528.0,2518.0,3884.0,2621.0,3541.0,3749.0,4115.0,2218.0,3234.0,4344.0,3216.0,9453.0,5055.0,4002.0,3169.0,6168.0,2407.0,2064.0,3973.0,7281.0,3052.0,4628.0,4082.0,5394.0,2766.0,3924.0,3015.0,6666.0,3854.0,4355.0,4343.0,6108.0,2523.0,2327.0,3990.0,2191.0,1941.0,16062.0,4998.0,4289.0,3880.0,3786.0,4298.0,3630.0,2826.0,7407.0,10386.0,2998.0,7018.0,2941.0,6432.0,10667.0,3988.0,4978.0,3388.0,4467.0,3246.0,5072.0,6339.0,4239.0,3454.0,7571.0,3333.0,3818.0,10933.0,5058.0,3601.0,3480.0,3525.0,3606.0,5542.0,6559.0,3623.0,10493.0,4446.0,2957.0,5538.0,4681.0,5273.0,5055.0,4002.0,3169.0,6168.0,2407.0,3630.0,2826.0,7407.0,10386.0,2998.0,3052.0,4628.0,4082.0,5394.0,2766.0,3924.0,3015.0],\"xaxis\":\"x\",\"y\":[162.0,224.0,131.0,213.0,123.0,144.0,76.0,124.0,159.0,191.0,81.0,151.0,162.0,142.0,294.0,159.0,205.0,121.0,151.0,72.0,76.0,91.0,195.0,129.0,160.0,175.0,147.0,114.0,151.0,92.0,214.0,150.0,122.0,152.0,196.0,86.0,85.0,156.0,72.0,82.0,416.0,180.0,150.0,127.0,167.0,225.0,137.0,114.0,263.0,328.0,126.0,236.0,99.0,212.0,297.0,142.0,186.0,112.0,149.0,132.0,115.0,248.0,178.0,107.0,269.0,96.0,134.0,301.0,187.0,94.0,114.0,96.0,138.0,122.0,257.0,95.0,244.0,190.0,118.0,178.0,170.0,250.0,159.0,205.0,121.0,151.0,72.0,137.0,114.0,263.0,328.0,126.0,129.0,160.0,175.0,147.0,114.0,151.0,92.0],\"yaxis\":\"y\",\"type\":\"scatter\"},{\"hovertemplate\":\"\\u003cb\\u003eOLS trendline\\u003c\\u002fb\\u003e\\u003cbr\\u003eLikes = 0.0253784 * Impressions + 42.4728\\u003cbr\\u003eR\\u003csup\\u003e2\\u003c\\u002fsup\\u003e=0.803312\\u003cbr\\u003e\\u003cbr\\u003eImpressions=%{x}\\u003cbr\\u003eLikes=%{y} \\u003cb\\u003e(trend)\\u003c\\u002fb\\u003e\\u003cextra\\u003e\\u003c\\u002fextra\\u003e\",\"legendgroup\":\"\",\"marker\":{\"color\":\"#636efa\",\"symbol\":\"circle\"},\"mode\":\"lines\",\"name\":\"\",\"showlegend\":false,\"x\":[1941.0,2064.0,2191.0,2218.0,2327.0,2407.0,2407.0,2518.0,2523.0,2621.0,2766.0,2766.0,2826.0,2826.0,2941.0,2957.0,2998.0,2998.0,3015.0,3015.0,3052.0,3052.0,3169.0,3169.0,3216.0,3234.0,3246.0,3333.0,3388.0,3454.0,3480.0,3525.0,3541.0,3601.0,3606.0,3623.0,3630.0,3630.0,3749.0,3786.0,3818.0,3854.0,3880.0,3884.0,3920.0,3924.0,3924.0,3973.0,3988.0,3990.0,4002.0,4002.0,4021.0,4082.0,4082.0,4115.0,4239.0,4289.0,4298.0,4343.0,4344.0,4355.0,4446.0,4467.0,4528.0,4628.0,4628.0,4681.0,4978.0,4998.0,5055.0,5055.0,5058.0,5072.0,5273.0,5394.0,5394.0,5394.0,5538.0,5542.0,6108.0,6168.0,6168.0,6339.0,6432.0,6559.0,6666.0,7018.0,7281.0,7407.0,7407.0,7571.0,9453.0,10386.0,10386.0,10493.0,10667.0,10933.0,16062.0],\"xaxis\":\"x\",\"y\":[91.73221896254907,94.8537606451956,98.07681587849731,98.76203234541973,101.52827660077318,103.55854761387661,103.55854761387661,106.37554864455764,106.5024405828766,108.98952257392833,112.66938878517831,112.66938878517831,114.1920920450059,114.1920920450059,117.11060662634209,117.51666082896278,118.55717472317829,118.55717472317829,118.98860731346278,118.98860731346278,119.92760765702312,119.92760765702312,122.8968790136869,122.8968790136869,124.08966323388518,124.54647421183344,124.85101486379897,127.05893459054896,128.45474591205758,130.1297194978679,130.78955757712652,131.93158502199722,132.3376392246179,133.86034248444548,133.98723442276446,134.41866701304895,134.59631572669548,134.59631572669548,137.61634385868686,138.5553442022472,139.3674526074886,140.28107456338512,140.94091264264375,141.04242619329892,141.95604814919545,142.05756169985062,142.05756169985062,143.3011026953765,143.6817785103334,143.73253528566096,144.0370759376265,144.0370759376265,144.51926530323857,146.06734695072993,146.06734695072993,146.9048337436351,150.05175381394542,151.32067319713508,151.54907868610923,152.6911061309799,152.7164845186437,152.9956467829454,155.30508006035058,155.83802620129023,157.38610784878162,159.92394661516093,159.92394661516093,161.26900116134198,168.80638229748848,169.31395005076433,170.76051814760055,170.76051814760055,170.83665331059194,171.19195073788504,176.29300665830743,179.36379156562637,179.36379156562637,179.36379156562637,183.01827938921258,183.11979293986775,197.4839603575746,199.00666361740218,199.00666361740218,203.3463679079108,205.70655796064355,208.92961319394527,211.64510067397111,220.57829313162625,227.25280908720381,230.45048593284176,230.45048593284176,234.61254150970382,282.3746670929623,306.0527027832811,306.0527027832811,308.768190263307,313.184029716807,319.93468083537596,450.1004311629704],\"yaxis\":\"y\",\"type\":\"scatter\"}],                        {\"template\":{\"data\":{\"histogram2dcontour\":[{\"type\":\"histogram2dcontour\",\"colorbar\":{\"outlinewidth\":0,\"ticks\":\"\"},\"colorscale\":[[0.0,\"#0d0887\"],[0.1111111111111111,\"#46039f\"],[0.2222222222222222,\"#7201a8\"],[0.3333333333333333,\"#9c179e\"],[0.4444444444444444,\"#bd3786\"],[0.5555555555555556,\"#d8576b\"],[0.6666666666666666,\"#ed7953\"],[0.7777777777777778,\"#fb9f3a\"],[0.8888888888888888,\"#fdca26\"],[1.0,\"#f0f921\"]]}],\"choropleth\":[{\"type\":\"choropleth\",\"colorbar\":{\"outlinewidth\":0,\"ticks\":\"\"}}],\"histogram2d\":[{\"type\":\"histogram2d\",\"colorbar\":{\"outlinewidth\":0,\"ticks\":\"\"},\"colorscale\":[[0.0,\"#0d0887\"],[0.1111111111111111,\"#46039f\"],[0.2222222222222222,\"#7201a8\"],[0.3333333333333333,\"#9c179e\"],[0.4444444444444444,\"#bd3786\"],[0.5555555555555556,\"#d8576b\"],[0.6666666666666666,\"#ed7953\"],[0.7777777777777778,\"#fb9f3a\"],[0.8888888888888888,\"#fdca26\"],[1.0,\"#f0f921\"]]}],\"heatmap\":[{\"type\":\"heatmap\",\"colorbar\":{\"outlinewidth\":0,\"ticks\":\"\"},\"colorscale\":[[0.0,\"#0d0887\"],[0.1111111111111111,\"#46039f\"],[0.2222222222222222,\"#7201a8\"],[0.3333333333333333,\"#9c179e\"],[0.4444444444444444,\"#bd3786\"],[0.5555555555555556,\"#d8576b\"],[0.6666666666666666,\"#ed7953\"],[0.7777777777777778,\"#fb9f3a\"],[0.8888888888888888,\"#fdca26\"],[1.0,\"#f0f921\"]]}],\"heatmapgl\":[{\"type\":\"heatmapgl\",\"colorbar\":{\"outlinewidth\":0,\"ticks\":\"\"},\"colorscale\":[[0.0,\"#0d0887\"],[0.1111111111111111,\"#46039f\"],[0.2222222222222222,\"#7201a8\"],[0.3333333333333333,\"#9c179e\"],[0.4444444444444444,\"#bd3786\"],[0.5555555555555556,\"#d8576b\"],[0.6666666666666666,\"#ed7953\"],[0.7777777777777778,\"#fb9f3a\"],[0.8888888888888888,\"#fdca26\"],[1.0,\"#f0f921\"]]}],\"contourcarpet\":[{\"type\":\"contourcarpet\",\"colorbar\":{\"outlinewidth\":0,\"ticks\":\"\"}}],\"contour\":[{\"type\":\"contour\",\"colorbar\":{\"outlinewidth\":0,\"ticks\":\"\"},\"colorscale\":[[0.0,\"#0d0887\"],[0.1111111111111111,\"#46039f\"],[0.2222222222222222,\"#7201a8\"],[0.3333333333333333,\"#9c179e\"],[0.4444444444444444,\"#bd3786\"],[0.5555555555555556,\"#d8576b\"],[0.6666666666666666,\"#ed7953\"],[0.7777777777777778,\"#fb9f3a\"],[0.8888888888888888,\"#fdca26\"],[1.0,\"#f0f921\"]]}],\"surface\":[{\"type\":\"surface\",\"colorbar\":{\"outlinewidth\":0,\"ticks\":\"\"},\"colorscale\":[[0.0,\"#0d0887\"],[0.1111111111111111,\"#46039f\"],[0.2222222222222222,\"#7201a8\"],[0.3333333333333333,\"#9c179e\"],[0.4444444444444444,\"#bd3786\"],[0.5555555555555556,\"#d8576b\"],[0.6666666666666666,\"#ed7953\"],[0.7777777777777778,\"#fb9f3a\"],[0.8888888888888888,\"#fdca26\"],[1.0,\"#f0f921\"]]}],\"mesh3d\":[{\"type\":\"mesh3d\",\"colorbar\":{\"outlinewidth\":0,\"ticks\":\"\"}}],\"scatter\":[{\"fillpattern\":{\"fillmode\":\"overlay\",\"size\":10,\"solidity\":0.2},\"type\":\"scatter\"}],\"parcoords\":[{\"type\":\"parcoords\",\"line\":{\"colorbar\":{\"outlinewidth\":0,\"ticks\":\"\"}}}],\"scatterpolargl\":[{\"type\":\"scatterpolargl\",\"marker\":{\"colorbar\":{\"outlinewidth\":0,\"ticks\":\"\"}}}],\"bar\":[{\"error_x\":{\"color\":\"#2a3f5f\"},\"error_y\":{\"color\":\"#2a3f5f\"},\"marker\":{\"line\":{\"color\":\"#E5ECF6\",\"width\":0.5},\"pattern\":{\"fillmode\":\"overlay\",\"size\":10,\"solidity\":0.2}},\"type\":\"bar\"}],\"scattergeo\":[{\"type\":\"scattergeo\",\"marker\":{\"colorbar\":{\"outlinewidth\":0,\"ticks\":\"\"}}}],\"scatterpolar\":[{\"type\":\"scatterpolar\",\"marker\":{\"colorbar\":{\"outlinewidth\":0,\"ticks\":\"\"}}}],\"histogram\":[{\"marker\":{\"pattern\":{\"fillmode\":\"overlay\",\"size\":10,\"solidity\":0.2}},\"type\":\"histogram\"}],\"scattergl\":[{\"type\":\"scattergl\",\"marker\":{\"colorbar\":{\"outlinewidth\":0,\"ticks\":\"\"}}}],\"scatter3d\":[{\"type\":\"scatter3d\",\"line\":{\"colorbar\":{\"outlinewidth\":0,\"ticks\":\"\"}},\"marker\":{\"colorbar\":{\"outlinewidth\":0,\"ticks\":\"\"}}}],\"scattermapbox\":[{\"type\":\"scattermapbox\",\"marker\":{\"colorbar\":{\"outlinewidth\":0,\"ticks\":\"\"}}}],\"scatterternary\":[{\"type\":\"scatterternary\",\"marker\":{\"colorbar\":{\"outlinewidth\":0,\"ticks\":\"\"}}}],\"scattercarpet\":[{\"type\":\"scattercarpet\",\"marker\":{\"colorbar\":{\"outlinewidth\":0,\"ticks\":\"\"}}}],\"carpet\":[{\"aaxis\":{\"endlinecolor\":\"#2a3f5f\",\"gridcolor\":\"white\",\"linecolor\":\"white\",\"minorgridcolor\":\"white\",\"startlinecolor\":\"#2a3f5f\"},\"baxis\":{\"endlinecolor\":\"#2a3f5f\",\"gridcolor\":\"white\",\"linecolor\":\"white\",\"minorgridcolor\":\"white\",\"startlinecolor\":\"#2a3f5f\"},\"type\":\"carpet\"}],\"table\":[{\"cells\":{\"fill\":{\"color\":\"#EBF0F8\"},\"line\":{\"color\":\"white\"}},\"header\":{\"fill\":{\"color\":\"#C8D4E3\"},\"line\":{\"color\":\"white\"}},\"type\":\"table\"}],\"barpolar\":[{\"marker\":{\"line\":{\"color\":\"#E5ECF6\",\"width\":0.5},\"pattern\":{\"fillmode\":\"overlay\",\"size\":10,\"solidity\":0.2}},\"type\":\"barpolar\"}],\"pie\":[{\"automargin\":true,\"type\":\"pie\"}]},\"layout\":{\"autotypenumbers\":\"strict\",\"colorway\":[\"#636efa\",\"#EF553B\",\"#00cc96\",\"#ab63fa\",\"#FFA15A\",\"#19d3f3\",\"#FF6692\",\"#B6E880\",\"#FF97FF\",\"#FECB52\"],\"font\":{\"color\":\"#2a3f5f\"},\"hovermode\":\"closest\",\"hoverlabel\":{\"align\":\"left\"},\"paper_bgcolor\":\"white\",\"plot_bgcolor\":\"#E5ECF6\",\"polar\":{\"bgcolor\":\"#E5ECF6\",\"angularaxis\":{\"gridcolor\":\"white\",\"linecolor\":\"white\",\"ticks\":\"\"},\"radialaxis\":{\"gridcolor\":\"white\",\"linecolor\":\"white\",\"ticks\":\"\"}},\"ternary\":{\"bgcolor\":\"#E5ECF6\",\"aaxis\":{\"gridcolor\":\"white\",\"linecolor\":\"white\",\"ticks\":\"\"},\"baxis\":{\"gridcolor\":\"white\",\"linecolor\":\"white\",\"ticks\":\"\"},\"caxis\":{\"gridcolor\":\"white\",\"linecolor\":\"white\",\"ticks\":\"\"}},\"coloraxis\":{\"colorbar\":{\"outlinewidth\":0,\"ticks\":\"\"}},\"colorscale\":{\"sequential\":[[0.0,\"#0d0887\"],[0.1111111111111111,\"#46039f\"],[0.2222222222222222,\"#7201a8\"],[0.3333333333333333,\"#9c179e\"],[0.4444444444444444,\"#bd3786\"],[0.5555555555555556,\"#d8576b\"],[0.6666666666666666,\"#ed7953\"],[0.7777777777777778,\"#fb9f3a\"],[0.8888888888888888,\"#fdca26\"],[1.0,\"#f0f921\"]],\"sequentialminus\":[[0.0,\"#0d0887\"],[0.1111111111111111,\"#46039f\"],[0.2222222222222222,\"#7201a8\"],[0.3333333333333333,\"#9c179e\"],[0.4444444444444444,\"#bd3786\"],[0.5555555555555556,\"#d8576b\"],[0.6666666666666666,\"#ed7953\"],[0.7777777777777778,\"#fb9f3a\"],[0.8888888888888888,\"#fdca26\"],[1.0,\"#f0f921\"]],\"diverging\":[[0,\"#8e0152\"],[0.1,\"#c51b7d\"],[0.2,\"#de77ae\"],[0.3,\"#f1b6da\"],[0.4,\"#fde0ef\"],[0.5,\"#f7f7f7\"],[0.6,\"#e6f5d0\"],[0.7,\"#b8e186\"],[0.8,\"#7fbc41\"],[0.9,\"#4d9221\"],[1,\"#276419\"]]},\"xaxis\":{\"gridcolor\":\"white\",\"linecolor\":\"white\",\"ticks\":\"\",\"title\":{\"standoff\":15},\"zerolinecolor\":\"white\",\"automargin\":true,\"zerolinewidth\":2},\"yaxis\":{\"gridcolor\":\"white\",\"linecolor\":\"white\",\"ticks\":\"\",\"title\":{\"standoff\":15},\"zerolinecolor\":\"white\",\"automargin\":true,\"zerolinewidth\":2},\"scene\":{\"xaxis\":{\"backgroundcolor\":\"#E5ECF6\",\"gridcolor\":\"white\",\"linecolor\":\"white\",\"showbackground\":true,\"ticks\":\"\",\"zerolinecolor\":\"white\",\"gridwidth\":2},\"yaxis\":{\"backgroundcolor\":\"#E5ECF6\",\"gridcolor\":\"white\",\"linecolor\":\"white\",\"showbackground\":true,\"ticks\":\"\",\"zerolinecolor\":\"white\",\"gridwidth\":2},\"zaxis\":{\"backgroundcolor\":\"#E5ECF6\",\"gridcolor\":\"white\",\"linecolor\":\"white\",\"showbackground\":true,\"ticks\":\"\",\"zerolinecolor\":\"white\",\"gridwidth\":2}},\"shapedefaults\":{\"line\":{\"color\":\"#2a3f5f\"}},\"annotationdefaults\":{\"arrowcolor\":\"#2a3f5f\",\"arrowhead\":0,\"arrowwidth\":1},\"geo\":{\"bgcolor\":\"white\",\"landcolor\":\"#E5ECF6\",\"subunitcolor\":\"white\",\"showland\":true,\"showlakes\":true,\"lakecolor\":\"white\"},\"title\":{\"x\":0.05},\"mapbox\":{\"style\":\"light\"}}},\"xaxis\":{\"anchor\":\"y\",\"domain\":[0.0,1.0],\"title\":{\"text\":\"Impressions\"}},\"yaxis\":{\"anchor\":\"x\",\"domain\":[0.0,1.0],\"title\":{\"text\":\"Likes\"}},\"legend\":{\"tracegroupgap\":0,\"itemsizing\":\"constant\"},\"title\":{\"text\":\"Relationship Between Likes and Impressions\"}},                        {\"responsive\": true}                    ).then(function(){\n",
              "                            \n",
              "var gd = document.getElementById('8052ad16-16c4-49f7-a3ea-f137f51b0fba');\n",
              "var x = new MutationObserver(function (mutations, observer) {{\n",
              "        var display = window.getComputedStyle(gd).display;\n",
              "        if (!display || display === 'none') {{\n",
              "            console.log([gd, 'removed!']);\n",
              "            Plotly.purge(gd);\n",
              "            observer.disconnect();\n",
              "        }}\n",
              "}});\n",
              "\n",
              "// Listen for the removal of the full notebook cells\n",
              "var notebookContainer = gd.closest('#notebook-container');\n",
              "if (notebookContainer) {{\n",
              "    x.observe(notebookContainer, {childList: true});\n",
              "}}\n",
              "\n",
              "// Listen for the clearing of the current output cell\n",
              "var outputEl = gd.closest('.output');\n",
              "if (outputEl) {{\n",
              "    x.observe(outputEl, {childList: true});\n",
              "}}\n",
              "\n",
              "                        })                };                            </script>        </div>\n",
              "</body>\n",
              "</html>"
            ]
          },
          "metadata": {}
        }
      ],
      "source": [
        "import pandas as pd\n",
        "import numpy as np\n",
        "import plotly.express as px\n",
        "import matplotlib.pyplot as plt\n",
        "import seaborn as sns\n",
        "\n",
        "data = pd.read_csv('https://raw.githubusercontent.com/amankharwal/Website-data/master/Instagram.csv', encoding='latin1')\n",
        "\n",
        "data = data.dropna()\n",
        "\n",
        "print(data.head())\n",
        "\n",
        "\n",
        "figure = px.scatter(data_frame=data,\n",
        "                    x = \"Impressions\",\n",
        "                    y = \"Likes\",\n",
        "                    size=\"Likes\",\n",
        "                    trendline=\"ols\",\n",
        "                    title=\"Relationship Between Likes and Impressions\")\n",
        "figure.show()"
      ]
    }
  ]
}