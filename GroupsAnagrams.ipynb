{
  "nbformat": 4,
  "nbformat_minor": 0,
  "metadata": {
    "colab": {
      "provenance": [],
      "authorship_tag": "ABX9TyPmg7+/fh/Z4WmgwQ1QjXDP",
      "include_colab_link": true
    },
    "kernelspec": {
      "name": "python3",
      "display_name": "Python 3"
    },
    "language_info": {
      "name": "python"
    }
  },
  "cells": [
    {
      "cell_type": "markdown",
      "metadata": {
        "id": "view-in-github",
        "colab_type": "text"
      },
      "source": [
        "<a href=\"https://colab.research.google.com/github/sikandardatascientist123/Python-Project/blob/main/GroupsAnagrams.ipynb\" target=\"_parent\"><img src=\"https://colab.research.google.com/assets/colab-badge.svg\" alt=\"Open In Colab\"/></a>"
      ]
    },
    {
      "cell_type": "code",
      "execution_count": 1,
      "metadata": {
        "colab": {
          "base_uri": "https://localhost:8080/"
        },
        "id": "BtfRXQ9rdsgO",
        "outputId": "cd59f55d-2646-44c5-fabb-1ac682143cdb"
      },
      "outputs": [
        {
          "output_type": "stream",
          "name": "stdout",
          "text": [
            "dict_values([['tea', 'eat', 'ate'], ['bat'], ['arc', 'car']])\n"
          ]
        }
      ],
      "source": [
        "from collections import defaultdict\n",
        "\n",
        "def group_anagrams(a):\n",
        "    dfdict = defaultdict(list)\n",
        "    for i in a:\n",
        "        sorted_i = \" \".join(sorted(i))\n",
        "        dfdict[sorted_i].append(i)\n",
        "    return dfdict.values()\n",
        "\n",
        "words = [\"tea\", \"eat\", \"bat\",\"ate\",\"arc\",\"car\"]\n",
        "print(group_anagrams(words))"
      ]
    }
  ]
}