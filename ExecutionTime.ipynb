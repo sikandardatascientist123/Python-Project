{
  "nbformat": 4,
  "nbformat_minor": 0,
  "metadata": {
    "colab": {
      "provenance": [],
      "authorship_tag": "ABX9TyMOx7X1OSbiADOp8iR5vKCP",
      "include_colab_link": true
    },
    "kernelspec": {
      "name": "python3",
      "display_name": "Python 3"
    },
    "language_info": {
      "name": "python"
    }
  },
  "cells": [
    {
      "cell_type": "markdown",
      "metadata": {
        "id": "view-in-github",
        "colab_type": "text"
      },
      "source": [
        "<a href=\"https://colab.research.google.com/github/sikandardatascientist123/Python-Project/blob/main/ExecutionTime.ipynb\" target=\"_parent\"><img src=\"https://colab.research.google.com/assets/colab-badge.svg\" alt=\"Open In Colab\"/></a>"
      ]
    },
    {
      "cell_type": "code",
      "execution_count": 1,
      "metadata": {
        "colab": {
          "base_uri": "https://localhost:8080/"
        },
        "id": "5Yjeu7SvXnY_",
        "outputId": "40091d6a-bffc-4faa-93b3-6b64d3ea22e9"
      },
      "outputs": [
        {
          "output_type": "stream",
          "name": "stdout",
          "text": [
            " AI\n",
            "Execution Time:  0.00047969818115234375\n"
          ]
        }
      ],
      "source": [
        "#Calculate Execution Time in Python Code\n",
        "\n",
        "# So to calculate the execution time of a python program, we need to Follow these steps  mentioned below.\n",
        "# 1. First, Store the initation of the Program into a variable\n",
        "# 2. Write the python program\n",
        "# 3. Store the end time of the program into a variable\n",
        "# 4. Subtract the time of initiation of the program from the end time of the program\n",
        "# In the end you  will get the execution time of your program in seconds\n",
        "\n",
        "from time import time\n",
        "\n",
        "start = time()\n",
        "\n",
        "# Python program to create Acronyms\n",
        "\n",
        "word = \"Artificial Intellgence\"\n",
        "text = word.split()\n",
        "\n",
        "a = \" \"\n",
        "\n",
        "for i in text:\n",
        "    a = a+str(i[0]).upper()\n",
        "print(a)\n",
        "\n",
        "end = time()\n",
        "\n",
        "execution_time = end - start\n",
        "\n",
        "print(\"Execution Time: \",execution_time)"
      ]
    }
  ]
}