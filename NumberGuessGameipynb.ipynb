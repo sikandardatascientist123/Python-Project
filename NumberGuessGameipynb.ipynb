{
  "nbformat": 4,
  "nbformat_minor": 0,
  "metadata": {
    "colab": {
      "provenance": [],
      "authorship_tag": "ABX9TyMNpj/gOVWM9nL9e1o8+CnH",
      "include_colab_link": true
    },
    "kernelspec": {
      "name": "python3",
      "display_name": "Python 3"
    },
    "language_info": {
      "name": "python"
    }
  },
  "cells": [
    {
      "cell_type": "markdown",
      "metadata": {
        "id": "view-in-github",
        "colab_type": "text"
      },
      "source": [
        "<a href=\"https://colab.research.google.com/github/sikandardatascientist123/Python-Project/blob/main/NumberGuessGameipynb.ipynb\" target=\"_parent\"><img src=\"https://colab.research.google.com/assets/colab-badge.svg\" alt=\"Open In Colab\"/></a>"
      ]
    },
    {
      "cell_type": "code",
      "execution_count": 1,
      "metadata": {
        "colab": {
          "base_uri": "https://localhost:8080/"
        },
        "id": "uT5pys5wgrWQ",
        "outputId": "1f8e639b-9847-4e01-c437-620d9de21b4e"
      },
      "outputs": [
        {
          "output_type": "stream",
          "name": "stdout",
          "text": [
            "Enter any number4\n",
            "You guessed it right!!\n"
          ]
        }
      ],
      "source": [
        "import random\n",
        "n = random.randrange(1,10)\n",
        "\n",
        "guess = int(input(\"Enter any number\"))\n",
        "\n",
        "while n!=guess:\n",
        "    if guess < n:\n",
        "        print('Too Low')\n",
        "        guess = int(input(\"Enter number Again!\"))\n",
        "    elif guess > n:\n",
        "        print(\"Too High\")\n",
        "        guess = int(input(\"Enter number Again!\"))\n",
        "    else:\n",
        "        break\n",
        "print(\"You guessed it right!!\")\n",
        ""
      ]
    }
  ]
}