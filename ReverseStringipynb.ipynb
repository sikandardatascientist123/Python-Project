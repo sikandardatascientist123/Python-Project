{
  "nbformat": 4,
  "nbformat_minor": 0,
  "metadata": {
    "colab": {
      "provenance": [],
      "authorship_tag": "ABX9TyPl6ptjb43yr2Qaysj8gNQJ",
      "include_colab_link": true
    },
    "kernelspec": {
      "name": "python3",
      "display_name": "Python 3"
    },
    "language_info": {
      "name": "python"
    }
  },
  "cells": [
    {
      "cell_type": "markdown",
      "metadata": {
        "id": "view-in-github",
        "colab_type": "text"
      },
      "source": [
        "<a href=\"https://colab.research.google.com/github/sikandardatascientist123/Python-Project/blob/main/ReverseStringipynb.ipynb\" target=\"_parent\"><img src=\"https://colab.research.google.com/assets/colab-badge.svg\" alt=\"Open In Colab\"/></a>"
      ]
    },
    {
      "cell_type": "code",
      "execution_count": 1,
      "metadata": {
        "colab": {
          "base_uri": "https://localhost:8080/"
        },
        "id": "ezxzXYKsikTt",
        "outputId": "bc554f79-f3a3-4c1f-c7d0-0a508272eee3"
      },
      "outputs": [
        {
          "output_type": "stream",
          "name": "stdout",
          "text": [
            "Sikandar Ali\n"
          ]
        }
      ],
      "source": [
        "def reverse_string(string):\n",
        "    return string[::-1]\n",
        "a = \"ilA radnakiS\"\n",
        "print(reverse_string(a))"
      ]
    }
  ]
}