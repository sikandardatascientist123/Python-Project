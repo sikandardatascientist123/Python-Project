{
  "nbformat": 4,
  "nbformat_minor": 0,
  "metadata": {
    "colab": {
      "provenance": [],
      "authorship_tag": "ABX9TyO4H9Fv+612qJyoCc+NBLDp",
      "include_colab_link": true
    },
    "kernelspec": {
      "name": "python3",
      "display_name": "Python 3"
    },
    "language_info": {
      "name": "python"
    }
  },
  "cells": [
    {
      "cell_type": "markdown",
      "metadata": {
        "id": "view-in-github",
        "colab_type": "text"
      },
      "source": [
        "<a href=\"https://colab.research.google.com/github/sikandardatascientist123/Python-Project/blob/main/GroupOfSameElement.ipynb\" target=\"_parent\"><img src=\"https://colab.research.google.com/assets/colab-badge.svg\" alt=\"Open In Colab\"/></a>"
      ]
    },
    {
      "cell_type": "code",
      "execution_count": 1,
      "metadata": {
        "colab": {
          "base_uri": "https://localhost:8080/"
        },
        "id": "_jBhEpIScw_L",
        "outputId": "646ab44c-5d05-4178-8bae-cc35b37d233d"
      },
      "outputs": [
        {
          "output_type": "stream",
          "name": "stdout",
          "text": [
            "[10, 40, 70] [20, 50, 80] [30, 60, 90]\n"
          ]
        }
      ],
      "source": [
        "\n",
        "inputLists = [[10,20,30],[40,50,60],[70,80,90]]\n",
        "outputLists = []\n",
        "index = 0\n",
        "\n",
        "for i in range(len(inputLists[0])):\n",
        "    outputLists.append([])\n",
        "    for j in range(len(inputLists)):\n",
        "        outputLists[index].append(inputLists[j][index])\n",
        "    index = index + 1\n",
        "a,b,c = outputLists[0],outputLists[1],outputLists[2]\n",
        "print(a,b,c)"
      ]
    }
  ]
}