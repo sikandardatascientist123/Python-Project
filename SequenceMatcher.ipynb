{
  "nbformat": 4,
  "nbformat_minor": 0,
  "metadata": {
    "colab": {
      "provenance": [],
      "authorship_tag": "ABX9TyPCX+pcYRxjoJG5IZovFQMj",
      "include_colab_link": true
    },
    "kernelspec": {
      "name": "python3",
      "display_name": "Python 3"
    },
    "language_info": {
      "name": "python"
    }
  },
  "cells": [
    {
      "cell_type": "markdown",
      "metadata": {
        "id": "view-in-github",
        "colab_type": "text"
      },
      "source": [
        "<a href=\"https://colab.research.google.com/github/sikandardatascientist123/Python-Project/blob/main/SequenceMatcher.ipynb\" target=\"_parent\"><img src=\"https://colab.research.google.com/assets/colab-badge.svg\" alt=\"Open In Colab\"/></a>"
      ]
    },
    {
      "cell_type": "code",
      "execution_count": 1,
      "metadata": {
        "colab": {
          "base_uri": "https://localhost:8080/"
        },
        "id": "34DvdfU2kGzW",
        "outputId": "76cfda1c-7973-4174-bd3d-f9167f3eeedc"
      },
      "outputs": [
        {
          "output_type": "stream",
          "name": "stdout",
          "text": [
            "Both are 93.94% Similar\n",
            "Both are34.78 % similar\n"
          ]
        }
      ],
      "source": [
        "from difflib import SequenceMatcher\n",
        "\n",
        "text1 = \"My Name is Sikandar Ali Laghari\"\n",
        "text2 = \"Hi, My Name is Sikandar Ali Laghari\"\n",
        "\n",
        "# Calculate similarity ratio\n",
        "sequence_score = SequenceMatcher(None, text1, text2).ratio()\n",
        "\n",
        "# Convert to percentage\n",
        "similarity_percentage = sequence_score * 100\n",
        "\n",
        "# Print the result\n",
        "print(f\"Both are {similarity_percentage:.2f}% Similar\")\n",
        "\n",
        "\n",
        "# Dissimilarity\n",
        "\n",
        "text3= \"My name is Sikandar Ali Laghari\"\n",
        "text4 = \"I am the founder of KaiSik Coding Club\"\n",
        "#calculate the similarity ratio\n",
        "sequence_score = SequenceMatcher(None, text3, text4).ratio()\n",
        "# Convert to Percentage\n",
        "similarity_percentage = sequence_score * 100\n",
        "#print the result\n",
        "print(f\"Both are{similarity_percentage:.2f} % similar\")"
      ]
    }
  ]
}